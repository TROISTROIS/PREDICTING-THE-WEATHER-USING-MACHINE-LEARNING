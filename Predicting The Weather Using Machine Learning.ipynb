{
 "cells": [
  {
   "cell_type": "code",
   "execution_count": 43,
   "id": "8d5e6163",
   "metadata": {},
   "outputs": [],
   "source": [
    "import numpy as np\n",
    "import pandas as pd\n",
    "import seaborn as sns \n",
    "import matplotlib.pyplot as plt\n",
    "import missingno as mno\n",
    "from sklearn.impute import SimpleImputer"
   ]
  },
  {
   "cell_type": "code",
   "execution_count": 44,
   "id": "7de6d1fe-5c2c-4459-ab44-1eaa0e1fb514",
   "metadata": {},
   "outputs": [],
   "source": [
    "# set the date column as the index\n",
    "# index column gives each row a unique identifier\n",
    "weather = pd.read_csv(\"JFK Station.csv\", index_col = \"DATE\")"
   ]
  },
  {
   "cell_type": "code",
   "execution_count": 45,
   "id": "e70d60df-663f-4bad-93d4-edd678cd7468",
   "metadata": {
    "tags": []
   },
   "outputs": [
    {
     "data": {
      "text/html": [
       "<div>\n",
       "<style scoped>\n",
       "    .dataframe tbody tr th:only-of-type {\n",
       "        vertical-align: middle;\n",
       "    }\n",
       "\n",
       "    .dataframe tbody tr th {\n",
       "        vertical-align: top;\n",
       "    }\n",
       "\n",
       "    .dataframe thead th {\n",
       "        text-align: right;\n",
       "    }\n",
       "</style>\n",
       "<table border=\"1\" class=\"dataframe\">\n",
       "  <thead>\n",
       "    <tr style=\"text-align: right;\">\n",
       "      <th></th>\n",
       "      <th>STATION</th>\n",
       "      <th>NAME</th>\n",
       "      <th>ACMH</th>\n",
       "      <th>ACSH</th>\n",
       "      <th>AWND</th>\n",
       "      <th>FMTM</th>\n",
       "      <th>PGTM</th>\n",
       "      <th>PRCP</th>\n",
       "      <th>SNOW</th>\n",
       "      <th>SNWD</th>\n",
       "      <th>...</th>\n",
       "      <th>WT11</th>\n",
       "      <th>WT13</th>\n",
       "      <th>WT14</th>\n",
       "      <th>WT15</th>\n",
       "      <th>WT16</th>\n",
       "      <th>WT17</th>\n",
       "      <th>WT18</th>\n",
       "      <th>WT21</th>\n",
       "      <th>WT22</th>\n",
       "      <th>WV01</th>\n",
       "    </tr>\n",
       "    <tr>\n",
       "      <th>DATE</th>\n",
       "      <th></th>\n",
       "      <th></th>\n",
       "      <th></th>\n",
       "      <th></th>\n",
       "      <th></th>\n",
       "      <th></th>\n",
       "      <th></th>\n",
       "      <th></th>\n",
       "      <th></th>\n",
       "      <th></th>\n",
       "      <th></th>\n",
       "      <th></th>\n",
       "      <th></th>\n",
       "      <th></th>\n",
       "      <th></th>\n",
       "      <th></th>\n",
       "      <th></th>\n",
       "      <th></th>\n",
       "      <th></th>\n",
       "      <th></th>\n",
       "      <th></th>\n",
       "    </tr>\n",
       "  </thead>\n",
       "  <tbody>\n",
       "    <tr>\n",
       "      <th>1970-01-01</th>\n",
       "      <td>USW00094789</td>\n",
       "      <td>JFK INTERNATIONAL AIRPORT, NY US</td>\n",
       "      <td>80.0</td>\n",
       "      <td>90.0</td>\n",
       "      <td>NaN</td>\n",
       "      <td>NaN</td>\n",
       "      <td>NaN</td>\n",
       "      <td>0.00</td>\n",
       "      <td>0.0</td>\n",
       "      <td>0.0</td>\n",
       "      <td>...</td>\n",
       "      <td>NaN</td>\n",
       "      <td>NaN</td>\n",
       "      <td>NaN</td>\n",
       "      <td>NaN</td>\n",
       "      <td>NaN</td>\n",
       "      <td>NaN</td>\n",
       "      <td>NaN</td>\n",
       "      <td>NaN</td>\n",
       "      <td>NaN</td>\n",
       "      <td>NaN</td>\n",
       "    </tr>\n",
       "    <tr>\n",
       "      <th>1970-01-02</th>\n",
       "      <td>USW00094789</td>\n",
       "      <td>JFK INTERNATIONAL AIRPORT, NY US</td>\n",
       "      <td>30.0</td>\n",
       "      <td>20.0</td>\n",
       "      <td>NaN</td>\n",
       "      <td>NaN</td>\n",
       "      <td>NaN</td>\n",
       "      <td>0.00</td>\n",
       "      <td>0.0</td>\n",
       "      <td>0.0</td>\n",
       "      <td>...</td>\n",
       "      <td>NaN</td>\n",
       "      <td>NaN</td>\n",
       "      <td>NaN</td>\n",
       "      <td>NaN</td>\n",
       "      <td>NaN</td>\n",
       "      <td>NaN</td>\n",
       "      <td>NaN</td>\n",
       "      <td>NaN</td>\n",
       "      <td>NaN</td>\n",
       "      <td>NaN</td>\n",
       "    </tr>\n",
       "    <tr>\n",
       "      <th>1970-01-03</th>\n",
       "      <td>USW00094789</td>\n",
       "      <td>JFK INTERNATIONAL AIRPORT, NY US</td>\n",
       "      <td>80.0</td>\n",
       "      <td>100.0</td>\n",
       "      <td>NaN</td>\n",
       "      <td>NaN</td>\n",
       "      <td>NaN</td>\n",
       "      <td>0.02</td>\n",
       "      <td>0.0</td>\n",
       "      <td>0.0</td>\n",
       "      <td>...</td>\n",
       "      <td>NaN</td>\n",
       "      <td>NaN</td>\n",
       "      <td>NaN</td>\n",
       "      <td>NaN</td>\n",
       "      <td>1.0</td>\n",
       "      <td>NaN</td>\n",
       "      <td>1.0</td>\n",
       "      <td>NaN</td>\n",
       "      <td>NaN</td>\n",
       "      <td>NaN</td>\n",
       "    </tr>\n",
       "    <tr>\n",
       "      <th>1970-01-04</th>\n",
       "      <td>USW00094789</td>\n",
       "      <td>JFK INTERNATIONAL AIRPORT, NY US</td>\n",
       "      <td>10.0</td>\n",
       "      <td>20.0</td>\n",
       "      <td>NaN</td>\n",
       "      <td>NaN</td>\n",
       "      <td>NaN</td>\n",
       "      <td>0.00</td>\n",
       "      <td>0.0</td>\n",
       "      <td>0.0</td>\n",
       "      <td>...</td>\n",
       "      <td>NaN</td>\n",
       "      <td>NaN</td>\n",
       "      <td>NaN</td>\n",
       "      <td>NaN</td>\n",
       "      <td>NaN</td>\n",
       "      <td>NaN</td>\n",
       "      <td>1.0</td>\n",
       "      <td>NaN</td>\n",
       "      <td>NaN</td>\n",
       "      <td>NaN</td>\n",
       "    </tr>\n",
       "    <tr>\n",
       "      <th>1970-01-05</th>\n",
       "      <td>USW00094789</td>\n",
       "      <td>JFK INTERNATIONAL AIRPORT, NY US</td>\n",
       "      <td>30.0</td>\n",
       "      <td>10.0</td>\n",
       "      <td>NaN</td>\n",
       "      <td>NaN</td>\n",
       "      <td>NaN</td>\n",
       "      <td>0.00</td>\n",
       "      <td>0.0</td>\n",
       "      <td>0.0</td>\n",
       "      <td>...</td>\n",
       "      <td>NaN</td>\n",
       "      <td>NaN</td>\n",
       "      <td>NaN</td>\n",
       "      <td>NaN</td>\n",
       "      <td>NaN</td>\n",
       "      <td>NaN</td>\n",
       "      <td>NaN</td>\n",
       "      <td>NaN</td>\n",
       "      <td>NaN</td>\n",
       "      <td>NaN</td>\n",
       "    </tr>\n",
       "    <tr>\n",
       "      <th>...</th>\n",
       "      <td>...</td>\n",
       "      <td>...</td>\n",
       "      <td>...</td>\n",
       "      <td>...</td>\n",
       "      <td>...</td>\n",
       "      <td>...</td>\n",
       "      <td>...</td>\n",
       "      <td>...</td>\n",
       "      <td>...</td>\n",
       "      <td>...</td>\n",
       "      <td>...</td>\n",
       "      <td>...</td>\n",
       "      <td>...</td>\n",
       "      <td>...</td>\n",
       "      <td>...</td>\n",
       "      <td>...</td>\n",
       "      <td>...</td>\n",
       "      <td>...</td>\n",
       "      <td>...</td>\n",
       "      <td>...</td>\n",
       "      <td>...</td>\n",
       "    </tr>\n",
       "    <tr>\n",
       "      <th>2022-12-27</th>\n",
       "      <td>USW00094789</td>\n",
       "      <td>JFK INTERNATIONAL AIRPORT, NY US</td>\n",
       "      <td>NaN</td>\n",
       "      <td>NaN</td>\n",
       "      <td>10.74</td>\n",
       "      <td>NaN</td>\n",
       "      <td>NaN</td>\n",
       "      <td>0.00</td>\n",
       "      <td>0.0</td>\n",
       "      <td>0.0</td>\n",
       "      <td>...</td>\n",
       "      <td>NaN</td>\n",
       "      <td>NaN</td>\n",
       "      <td>NaN</td>\n",
       "      <td>NaN</td>\n",
       "      <td>NaN</td>\n",
       "      <td>NaN</td>\n",
       "      <td>NaN</td>\n",
       "      <td>NaN</td>\n",
       "      <td>NaN</td>\n",
       "      <td>NaN</td>\n",
       "    </tr>\n",
       "    <tr>\n",
       "      <th>2022-12-28</th>\n",
       "      <td>USW00094789</td>\n",
       "      <td>JFK INTERNATIONAL AIRPORT, NY US</td>\n",
       "      <td>NaN</td>\n",
       "      <td>NaN</td>\n",
       "      <td>8.50</td>\n",
       "      <td>NaN</td>\n",
       "      <td>NaN</td>\n",
       "      <td>0.00</td>\n",
       "      <td>0.0</td>\n",
       "      <td>0.0</td>\n",
       "      <td>...</td>\n",
       "      <td>NaN</td>\n",
       "      <td>NaN</td>\n",
       "      <td>NaN</td>\n",
       "      <td>NaN</td>\n",
       "      <td>NaN</td>\n",
       "      <td>NaN</td>\n",
       "      <td>NaN</td>\n",
       "      <td>NaN</td>\n",
       "      <td>NaN</td>\n",
       "      <td>NaN</td>\n",
       "    </tr>\n",
       "    <tr>\n",
       "      <th>2022-12-29</th>\n",
       "      <td>USW00094789</td>\n",
       "      <td>JFK INTERNATIONAL AIRPORT, NY US</td>\n",
       "      <td>NaN</td>\n",
       "      <td>NaN</td>\n",
       "      <td>7.16</td>\n",
       "      <td>NaN</td>\n",
       "      <td>NaN</td>\n",
       "      <td>0.00</td>\n",
       "      <td>0.0</td>\n",
       "      <td>0.0</td>\n",
       "      <td>...</td>\n",
       "      <td>NaN</td>\n",
       "      <td>NaN</td>\n",
       "      <td>NaN</td>\n",
       "      <td>NaN</td>\n",
       "      <td>NaN</td>\n",
       "      <td>NaN</td>\n",
       "      <td>NaN</td>\n",
       "      <td>NaN</td>\n",
       "      <td>NaN</td>\n",
       "      <td>NaN</td>\n",
       "    </tr>\n",
       "    <tr>\n",
       "      <th>2022-12-30</th>\n",
       "      <td>USW00094789</td>\n",
       "      <td>JFK INTERNATIONAL AIRPORT, NY US</td>\n",
       "      <td>NaN</td>\n",
       "      <td>NaN</td>\n",
       "      <td>6.26</td>\n",
       "      <td>NaN</td>\n",
       "      <td>853.0</td>\n",
       "      <td>0.00</td>\n",
       "      <td>0.0</td>\n",
       "      <td>0.0</td>\n",
       "      <td>...</td>\n",
       "      <td>NaN</td>\n",
       "      <td>NaN</td>\n",
       "      <td>NaN</td>\n",
       "      <td>NaN</td>\n",
       "      <td>NaN</td>\n",
       "      <td>NaN</td>\n",
       "      <td>NaN</td>\n",
       "      <td>NaN</td>\n",
       "      <td>NaN</td>\n",
       "      <td>NaN</td>\n",
       "    </tr>\n",
       "    <tr>\n",
       "      <th>2022-12-31</th>\n",
       "      <td>USW00094789</td>\n",
       "      <td>JFK INTERNATIONAL AIRPORT, NY US</td>\n",
       "      <td>NaN</td>\n",
       "      <td>NaN</td>\n",
       "      <td>NaN</td>\n",
       "      <td>NaN</td>\n",
       "      <td>NaN</td>\n",
       "      <td>0.27</td>\n",
       "      <td>0.0</td>\n",
       "      <td>0.0</td>\n",
       "      <td>...</td>\n",
       "      <td>NaN</td>\n",
       "      <td>NaN</td>\n",
       "      <td>NaN</td>\n",
       "      <td>NaN</td>\n",
       "      <td>NaN</td>\n",
       "      <td>NaN</td>\n",
       "      <td>NaN</td>\n",
       "      <td>NaN</td>\n",
       "      <td>NaN</td>\n",
       "      <td>NaN</td>\n",
       "    </tr>\n",
       "  </tbody>\n",
       "</table>\n",
       "<p>19358 rows × 44 columns</p>\n",
       "</div>"
      ],
      "text/plain": [
       "                STATION                              NAME  ACMH   ACSH   AWND  \\\n",
       "DATE                                                                            \n",
       "1970-01-01  USW00094789  JFK INTERNATIONAL AIRPORT, NY US  80.0   90.0    NaN   \n",
       "1970-01-02  USW00094789  JFK INTERNATIONAL AIRPORT, NY US  30.0   20.0    NaN   \n",
       "1970-01-03  USW00094789  JFK INTERNATIONAL AIRPORT, NY US  80.0  100.0    NaN   \n",
       "1970-01-04  USW00094789  JFK INTERNATIONAL AIRPORT, NY US  10.0   20.0    NaN   \n",
       "1970-01-05  USW00094789  JFK INTERNATIONAL AIRPORT, NY US  30.0   10.0    NaN   \n",
       "...                 ...                               ...   ...    ...    ...   \n",
       "2022-12-27  USW00094789  JFK INTERNATIONAL AIRPORT, NY US   NaN    NaN  10.74   \n",
       "2022-12-28  USW00094789  JFK INTERNATIONAL AIRPORT, NY US   NaN    NaN   8.50   \n",
       "2022-12-29  USW00094789  JFK INTERNATIONAL AIRPORT, NY US   NaN    NaN   7.16   \n",
       "2022-12-30  USW00094789  JFK INTERNATIONAL AIRPORT, NY US   NaN    NaN   6.26   \n",
       "2022-12-31  USW00094789  JFK INTERNATIONAL AIRPORT, NY US   NaN    NaN    NaN   \n",
       "\n",
       "            FMTM   PGTM  PRCP  SNOW  SNWD  ...  WT11  WT13  WT14  WT15  WT16  \\\n",
       "DATE                                       ...                                 \n",
       "1970-01-01   NaN    NaN  0.00   0.0   0.0  ...   NaN   NaN   NaN   NaN   NaN   \n",
       "1970-01-02   NaN    NaN  0.00   0.0   0.0  ...   NaN   NaN   NaN   NaN   NaN   \n",
       "1970-01-03   NaN    NaN  0.02   0.0   0.0  ...   NaN   NaN   NaN   NaN   1.0   \n",
       "1970-01-04   NaN    NaN  0.00   0.0   0.0  ...   NaN   NaN   NaN   NaN   NaN   \n",
       "1970-01-05   NaN    NaN  0.00   0.0   0.0  ...   NaN   NaN   NaN   NaN   NaN   \n",
       "...          ...    ...   ...   ...   ...  ...   ...   ...   ...   ...   ...   \n",
       "2022-12-27   NaN    NaN  0.00   0.0   0.0  ...   NaN   NaN   NaN   NaN   NaN   \n",
       "2022-12-28   NaN    NaN  0.00   0.0   0.0  ...   NaN   NaN   NaN   NaN   NaN   \n",
       "2022-12-29   NaN    NaN  0.00   0.0   0.0  ...   NaN   NaN   NaN   NaN   NaN   \n",
       "2022-12-30   NaN  853.0  0.00   0.0   0.0  ...   NaN   NaN   NaN   NaN   NaN   \n",
       "2022-12-31   NaN    NaN  0.27   0.0   0.0  ...   NaN   NaN   NaN   NaN   NaN   \n",
       "\n",
       "            WT17  WT18  WT21  WT22  WV01  \n",
       "DATE                                      \n",
       "1970-01-01   NaN   NaN   NaN   NaN   NaN  \n",
       "1970-01-02   NaN   NaN   NaN   NaN   NaN  \n",
       "1970-01-03   NaN   1.0   NaN   NaN   NaN  \n",
       "1970-01-04   NaN   1.0   NaN   NaN   NaN  \n",
       "1970-01-05   NaN   NaN   NaN   NaN   NaN  \n",
       "...          ...   ...   ...   ...   ...  \n",
       "2022-12-27   NaN   NaN   NaN   NaN   NaN  \n",
       "2022-12-28   NaN   NaN   NaN   NaN   NaN  \n",
       "2022-12-29   NaN   NaN   NaN   NaN   NaN  \n",
       "2022-12-30   NaN   NaN   NaN   NaN   NaN  \n",
       "2022-12-31   NaN   NaN   NaN   NaN   NaN  \n",
       "\n",
       "[19358 rows x 44 columns]"
      ]
     },
     "execution_count": 45,
     "metadata": {},
     "output_type": "execute_result"
    }
   ],
   "source": [
    "weather"
   ]
  },
  {
   "cell_type": "code",
   "execution_count": 46,
   "id": "287bedc0-65a0-404d-898a-b1cbba44e86a",
   "metadata": {},
   "outputs": [
    {
     "data": {
      "text/plain": [
       "(19358, 44)"
      ]
     },
     "execution_count": 46,
     "metadata": {},
     "output_type": "execute_result"
    }
   ],
   "source": [
    "weather.shape"
   ]
  },
  {
   "cell_type": "code",
   "execution_count": 47,
   "id": "c80eca37-87f1-4e1b-8252-54fbc6cfdd74",
   "metadata": {},
   "outputs": [
    {
     "name": "stdout",
     "output_type": "stream",
     "text": [
      "<class 'pandas.core.frame.DataFrame'>\n",
      "Index: 19358 entries, 1970-01-01 to 2022-12-31\n",
      "Data columns (total 44 columns):\n",
      " #   Column   Non-Null Count  Dtype  \n",
      "---  ------   --------------  -----  \n",
      " 0   STATION  19358 non-null  object \n",
      " 1   NAME     19358 non-null  object \n",
      " 2   ACMH     9615 non-null   float64\n",
      " 3   ACSH     9616 non-null   float64\n",
      " 4   AWND     14242 non-null  float64\n",
      " 5   FMTM     10124 non-null  float64\n",
      " 6   PGTM     12269 non-null  float64\n",
      " 7   PRCP     19358 non-null  float64\n",
      " 8   SNOW     19358 non-null  float64\n",
      " 9   SNWD     19357 non-null  float64\n",
      " 10  TAVG     6235 non-null   float64\n",
      " 11  TMAX     19358 non-null  int64  \n",
      " 12  TMIN     19358 non-null  int64  \n",
      " 13  TSUN     31 non-null     float64\n",
      " 14  WDF1     9611 non-null   float64\n",
      " 15  WDF2     9740 non-null   float64\n",
      " 16  WDF5     9657 non-null   float64\n",
      " 17  WDFG     5121 non-null   float64\n",
      " 18  WDFM     1 non-null      float64\n",
      " 19  WESD     6071 non-null   float64\n",
      " 20  WSF1     9614 non-null   float64\n",
      " 21  WSF2     9740 non-null   float64\n",
      " 22  WSF5     9656 non-null   float64\n",
      " 23  WSFG     7463 non-null   float64\n",
      " 24  WSFM     1 non-null      float64\n",
      " 25  WT01     7157 non-null   float64\n",
      " 26  WT02     1257 non-null   float64\n",
      " 27  WT03     1287 non-null   float64\n",
      " 28  WT04     337 non-null    float64\n",
      " 29  WT05     364 non-null    float64\n",
      " 30  WT06     181 non-null    float64\n",
      " 31  WT07     108 non-null    float64\n",
      " 32  WT08     3921 non-null   float64\n",
      " 33  WT09     140 non-null    float64\n",
      " 34  WT11     14 non-null     float64\n",
      " 35  WT13     2185 non-null   float64\n",
      " 36  WT14     887 non-null    float64\n",
      " 37  WT15     42 non-null     float64\n",
      " 38  WT16     6577 non-null   float64\n",
      " 39  WT17     60 non-null     float64\n",
      " 40  WT18     1167 non-null   float64\n",
      " 41  WT21     5 non-null      float64\n",
      " 42  WT22     49 non-null     float64\n",
      " 43  WV01     1 non-null      float64\n",
      "dtypes: float64(40), int64(2), object(2)\n",
      "memory usage: 6.6+ MB\n"
     ]
    }
   ],
   "source": [
    "weather.info()"
   ]
  },
  {
   "cell_type": "code",
   "execution_count": 48,
   "id": "c90ba2f1-bdde-4097-adad-33b13018f866",
   "metadata": {},
   "outputs": [
    {
     "data": {
      "text/html": [
       "<div>\n",
       "<style scoped>\n",
       "    .dataframe tbody tr th:only-of-type {\n",
       "        vertical-align: middle;\n",
       "    }\n",
       "\n",
       "    .dataframe tbody tr th {\n",
       "        vertical-align: top;\n",
       "    }\n",
       "\n",
       "    .dataframe thead th {\n",
       "        text-align: right;\n",
       "    }\n",
       "</style>\n",
       "<table border=\"1\" class=\"dataframe\">\n",
       "  <thead>\n",
       "    <tr style=\"text-align: right;\">\n",
       "      <th></th>\n",
       "      <th>ACMH</th>\n",
       "      <th>ACSH</th>\n",
       "      <th>AWND</th>\n",
       "      <th>FMTM</th>\n",
       "      <th>PGTM</th>\n",
       "      <th>PRCP</th>\n",
       "      <th>SNOW</th>\n",
       "      <th>SNWD</th>\n",
       "      <th>TAVG</th>\n",
       "      <th>TMAX</th>\n",
       "      <th>...</th>\n",
       "      <th>WT11</th>\n",
       "      <th>WT13</th>\n",
       "      <th>WT14</th>\n",
       "      <th>WT15</th>\n",
       "      <th>WT16</th>\n",
       "      <th>WT17</th>\n",
       "      <th>WT18</th>\n",
       "      <th>WT21</th>\n",
       "      <th>WT22</th>\n",
       "      <th>WV01</th>\n",
       "    </tr>\n",
       "  </thead>\n",
       "  <tbody>\n",
       "    <tr>\n",
       "      <th>count</th>\n",
       "      <td>9615.000000</td>\n",
       "      <td>9616.000000</td>\n",
       "      <td>14242.000000</td>\n",
       "      <td>10124.000000</td>\n",
       "      <td>12269.000000</td>\n",
       "      <td>19358.000000</td>\n",
       "      <td>19358.000000</td>\n",
       "      <td>19357.000000</td>\n",
       "      <td>6235.000000</td>\n",
       "      <td>19358.000000</td>\n",
       "      <td>...</td>\n",
       "      <td>14.0</td>\n",
       "      <td>2185.0</td>\n",
       "      <td>887.0</td>\n",
       "      <td>42.0</td>\n",
       "      <td>6577.0</td>\n",
       "      <td>60.0</td>\n",
       "      <td>1167.0</td>\n",
       "      <td>5.0</td>\n",
       "      <td>49.0</td>\n",
       "      <td>1.0</td>\n",
       "    </tr>\n",
       "    <tr>\n",
       "      <th>mean</th>\n",
       "      <td>57.886635</td>\n",
       "      <td>60.665557</td>\n",
       "      <td>11.237993</td>\n",
       "      <td>1438.505828</td>\n",
       "      <td>1383.881245</td>\n",
       "      <td>0.117751</td>\n",
       "      <td>0.064433</td>\n",
       "      <td>0.208865</td>\n",
       "      <td>55.445389</td>\n",
       "      <td>61.786910</td>\n",
       "      <td>...</td>\n",
       "      <td>1.0</td>\n",
       "      <td>1.0</td>\n",
       "      <td>1.0</td>\n",
       "      <td>1.0</td>\n",
       "      <td>1.0</td>\n",
       "      <td>1.0</td>\n",
       "      <td>1.0</td>\n",
       "      <td>1.0</td>\n",
       "      <td>1.0</td>\n",
       "      <td>1.0</td>\n",
       "    </tr>\n",
       "    <tr>\n",
       "      <th>std</th>\n",
       "      <td>30.612050</td>\n",
       "      <td>33.353307</td>\n",
       "      <td>4.793856</td>\n",
       "      <td>758.281872</td>\n",
       "      <td>631.337736</td>\n",
       "      <td>0.330525</td>\n",
       "      <td>0.597869</td>\n",
       "      <td>1.270538</td>\n",
       "      <td>16.550058</td>\n",
       "      <td>17.402685</td>\n",
       "      <td>...</td>\n",
       "      <td>0.0</td>\n",
       "      <td>0.0</td>\n",
       "      <td>0.0</td>\n",
       "      <td>0.0</td>\n",
       "      <td>0.0</td>\n",
       "      <td>0.0</td>\n",
       "      <td>0.0</td>\n",
       "      <td>0.0</td>\n",
       "      <td>0.0</td>\n",
       "      <td>NaN</td>\n",
       "    </tr>\n",
       "    <tr>\n",
       "      <th>min</th>\n",
       "      <td>0.000000</td>\n",
       "      <td>0.000000</td>\n",
       "      <td>0.220000</td>\n",
       "      <td>0.000000</td>\n",
       "      <td>0.000000</td>\n",
       "      <td>0.000000</td>\n",
       "      <td>0.000000</td>\n",
       "      <td>0.000000</td>\n",
       "      <td>8.000000</td>\n",
       "      <td>8.000000</td>\n",
       "      <td>...</td>\n",
       "      <td>1.0</td>\n",
       "      <td>1.0</td>\n",
       "      <td>1.0</td>\n",
       "      <td>1.0</td>\n",
       "      <td>1.0</td>\n",
       "      <td>1.0</td>\n",
       "      <td>1.0</td>\n",
       "      <td>1.0</td>\n",
       "      <td>1.0</td>\n",
       "      <td>1.0</td>\n",
       "    </tr>\n",
       "    <tr>\n",
       "      <th>25%</th>\n",
       "      <td>30.000000</td>\n",
       "      <td>30.000000</td>\n",
       "      <td>8.280000</td>\n",
       "      <td>1101.750000</td>\n",
       "      <td>1023.000000</td>\n",
       "      <td>0.000000</td>\n",
       "      <td>0.000000</td>\n",
       "      <td>0.000000</td>\n",
       "      <td>42.000000</td>\n",
       "      <td>48.000000</td>\n",
       "      <td>...</td>\n",
       "      <td>1.0</td>\n",
       "      <td>1.0</td>\n",
       "      <td>1.0</td>\n",
       "      <td>1.0</td>\n",
       "      <td>1.0</td>\n",
       "      <td>1.0</td>\n",
       "      <td>1.0</td>\n",
       "      <td>1.0</td>\n",
       "      <td>1.0</td>\n",
       "      <td>1.0</td>\n",
       "    </tr>\n",
       "    <tr>\n",
       "      <th>50%</th>\n",
       "      <td>60.000000</td>\n",
       "      <td>70.000000</td>\n",
       "      <td>10.510000</td>\n",
       "      <td>1526.000000</td>\n",
       "      <td>1458.000000</td>\n",
       "      <td>0.000000</td>\n",
       "      <td>0.000000</td>\n",
       "      <td>0.000000</td>\n",
       "      <td>56.000000</td>\n",
       "      <td>62.000000</td>\n",
       "      <td>...</td>\n",
       "      <td>1.0</td>\n",
       "      <td>1.0</td>\n",
       "      <td>1.0</td>\n",
       "      <td>1.0</td>\n",
       "      <td>1.0</td>\n",
       "      <td>1.0</td>\n",
       "      <td>1.0</td>\n",
       "      <td>1.0</td>\n",
       "      <td>1.0</td>\n",
       "      <td>1.0</td>\n",
       "    </tr>\n",
       "    <tr>\n",
       "      <th>75%</th>\n",
       "      <td>80.000000</td>\n",
       "      <td>90.000000</td>\n",
       "      <td>13.420000</td>\n",
       "      <td>1850.000000</td>\n",
       "      <td>1837.000000</td>\n",
       "      <td>0.040000</td>\n",
       "      <td>0.000000</td>\n",
       "      <td>0.000000</td>\n",
       "      <td>70.000000</td>\n",
       "      <td>77.000000</td>\n",
       "      <td>...</td>\n",
       "      <td>1.0</td>\n",
       "      <td>1.0</td>\n",
       "      <td>1.0</td>\n",
       "      <td>1.0</td>\n",
       "      <td>1.0</td>\n",
       "      <td>1.0</td>\n",
       "      <td>1.0</td>\n",
       "      <td>1.0</td>\n",
       "      <td>1.0</td>\n",
       "      <td>1.0</td>\n",
       "    </tr>\n",
       "    <tr>\n",
       "      <th>max</th>\n",
       "      <td>100.000000</td>\n",
       "      <td>100.000000</td>\n",
       "      <td>308.030000</td>\n",
       "      <td>32767.000000</td>\n",
       "      <td>2359.000000</td>\n",
       "      <td>7.800000</td>\n",
       "      <td>30.300000</td>\n",
       "      <td>28.000000</td>\n",
       "      <td>91.000000</td>\n",
       "      <td>103.000000</td>\n",
       "      <td>...</td>\n",
       "      <td>1.0</td>\n",
       "      <td>1.0</td>\n",
       "      <td>1.0</td>\n",
       "      <td>1.0</td>\n",
       "      <td>1.0</td>\n",
       "      <td>1.0</td>\n",
       "      <td>1.0</td>\n",
       "      <td>1.0</td>\n",
       "      <td>1.0</td>\n",
       "      <td>1.0</td>\n",
       "    </tr>\n",
       "  </tbody>\n",
       "</table>\n",
       "<p>8 rows × 42 columns</p>\n",
       "</div>"
      ],
      "text/plain": [
       "              ACMH         ACSH          AWND          FMTM          PGTM  \\\n",
       "count  9615.000000  9616.000000  14242.000000  10124.000000  12269.000000   \n",
       "mean     57.886635    60.665557     11.237993   1438.505828   1383.881245   \n",
       "std      30.612050    33.353307      4.793856    758.281872    631.337736   \n",
       "min       0.000000     0.000000      0.220000      0.000000      0.000000   \n",
       "25%      30.000000    30.000000      8.280000   1101.750000   1023.000000   \n",
       "50%      60.000000    70.000000     10.510000   1526.000000   1458.000000   \n",
       "75%      80.000000    90.000000     13.420000   1850.000000   1837.000000   \n",
       "max     100.000000   100.000000    308.030000  32767.000000   2359.000000   \n",
       "\n",
       "               PRCP          SNOW          SNWD         TAVG          TMAX  \\\n",
       "count  19358.000000  19358.000000  19357.000000  6235.000000  19358.000000   \n",
       "mean       0.117751      0.064433      0.208865    55.445389     61.786910   \n",
       "std        0.330525      0.597869      1.270538    16.550058     17.402685   \n",
       "min        0.000000      0.000000      0.000000     8.000000      8.000000   \n",
       "25%        0.000000      0.000000      0.000000    42.000000     48.000000   \n",
       "50%        0.000000      0.000000      0.000000    56.000000     62.000000   \n",
       "75%        0.040000      0.000000      0.000000    70.000000     77.000000   \n",
       "max        7.800000     30.300000     28.000000    91.000000    103.000000   \n",
       "\n",
       "       ...  WT11    WT13   WT14  WT15    WT16  WT17    WT18  WT21  WT22  WV01  \n",
       "count  ...  14.0  2185.0  887.0  42.0  6577.0  60.0  1167.0   5.0  49.0   1.0  \n",
       "mean   ...   1.0     1.0    1.0   1.0     1.0   1.0     1.0   1.0   1.0   1.0  \n",
       "std    ...   0.0     0.0    0.0   0.0     0.0   0.0     0.0   0.0   0.0   NaN  \n",
       "min    ...   1.0     1.0    1.0   1.0     1.0   1.0     1.0   1.0   1.0   1.0  \n",
       "25%    ...   1.0     1.0    1.0   1.0     1.0   1.0     1.0   1.0   1.0   1.0  \n",
       "50%    ...   1.0     1.0    1.0   1.0     1.0   1.0     1.0   1.0   1.0   1.0  \n",
       "75%    ...   1.0     1.0    1.0   1.0     1.0   1.0     1.0   1.0   1.0   1.0  \n",
       "max    ...   1.0     1.0    1.0   1.0     1.0   1.0     1.0   1.0   1.0   1.0  \n",
       "\n",
       "[8 rows x 42 columns]"
      ]
     },
     "execution_count": 48,
     "metadata": {},
     "output_type": "execute_result"
    }
   ],
   "source": [
    "weather.describe()"
   ]
  },
  {
   "cell_type": "code",
   "execution_count": 49,
   "id": "ecd38e79-2d8b-4c40-85ce-ea77cb739c03",
   "metadata": {},
   "outputs": [],
   "source": [
    "null_percentage=pd.DataFrame(weather[weather.columns[weather.isnull().any()]].isnull().sum()*100/weather.shape[0], columns =[\"Percentage of null values\"])\n",
    "null_percentage[\"Total NaN values\"]=weather[weather.columns[weather.isnull().any()]].isnull().sum()"
   ]
  },
  {
   "cell_type": "code",
   "execution_count": 50,
   "id": "591e6a4f-8cfc-4e75-a5ab-05f68c1ee17c",
   "metadata": {},
   "outputs": [
    {
     "data": {
      "text/plain": [
       "19358"
      ]
     },
     "execution_count": 50,
     "metadata": {},
     "output_type": "execute_result"
    }
   ],
   "source": [
    "weather.shape[0]\n"
   ]
  },
  {
   "cell_type": "code",
   "execution_count": 51,
   "id": "f55077dd-e77d-43e1-8ce0-07d5a6283f9b",
   "metadata": {},
   "outputs": [
    {
     "data": {
      "text/html": [
       "<div>\n",
       "<style scoped>\n",
       "    .dataframe tbody tr th:only-of-type {\n",
       "        vertical-align: middle;\n",
       "    }\n",
       "\n",
       "    .dataframe tbody tr th {\n",
       "        vertical-align: top;\n",
       "    }\n",
       "\n",
       "    .dataframe thead th {\n",
       "        text-align: right;\n",
       "    }\n",
       "</style>\n",
       "<table border=\"1\" class=\"dataframe\">\n",
       "  <thead>\n",
       "    <tr style=\"text-align: right;\">\n",
       "      <th></th>\n",
       "      <th>Percentage of null values</th>\n",
       "      <th>Total NaN values</th>\n",
       "    </tr>\n",
       "  </thead>\n",
       "  <tbody>\n",
       "    <tr>\n",
       "      <th>ACMH</th>\n",
       "      <td>50.330613</td>\n",
       "      <td>9743</td>\n",
       "    </tr>\n",
       "    <tr>\n",
       "      <th>ACSH</th>\n",
       "      <td>50.325447</td>\n",
       "      <td>9742</td>\n",
       "    </tr>\n",
       "    <tr>\n",
       "      <th>AWND</th>\n",
       "      <td>26.428350</td>\n",
       "      <td>5116</td>\n",
       "    </tr>\n",
       "    <tr>\n",
       "      <th>FMTM</th>\n",
       "      <td>47.701209</td>\n",
       "      <td>9234</td>\n",
       "    </tr>\n",
       "    <tr>\n",
       "      <th>PGTM</th>\n",
       "      <td>36.620519</td>\n",
       "      <td>7089</td>\n",
       "    </tr>\n",
       "    <tr>\n",
       "      <th>SNWD</th>\n",
       "      <td>0.005166</td>\n",
       "      <td>1</td>\n",
       "    </tr>\n",
       "    <tr>\n",
       "      <th>TAVG</th>\n",
       "      <td>67.791094</td>\n",
       "      <td>13123</td>\n",
       "    </tr>\n",
       "    <tr>\n",
       "      <th>TSUN</th>\n",
       "      <td>99.839859</td>\n",
       "      <td>19327</td>\n",
       "    </tr>\n",
       "    <tr>\n",
       "      <th>WDF1</th>\n",
       "      <td>50.351276</td>\n",
       "      <td>9747</td>\n",
       "    </tr>\n",
       "    <tr>\n",
       "      <th>WDF2</th>\n",
       "      <td>49.684885</td>\n",
       "      <td>9618</td>\n",
       "    </tr>\n",
       "    <tr>\n",
       "      <th>WDF5</th>\n",
       "      <td>50.113648</td>\n",
       "      <td>9701</td>\n",
       "    </tr>\n",
       "    <tr>\n",
       "      <th>WDFG</th>\n",
       "      <td>73.545821</td>\n",
       "      <td>14237</td>\n",
       "    </tr>\n",
       "    <tr>\n",
       "      <th>WDFM</th>\n",
       "      <td>99.994834</td>\n",
       "      <td>19357</td>\n",
       "    </tr>\n",
       "    <tr>\n",
       "      <th>WESD</th>\n",
       "      <td>68.638289</td>\n",
       "      <td>13287</td>\n",
       "    </tr>\n",
       "    <tr>\n",
       "      <th>WSF1</th>\n",
       "      <td>50.335778</td>\n",
       "      <td>9744</td>\n",
       "    </tr>\n",
       "    <tr>\n",
       "      <th>WSF2</th>\n",
       "      <td>49.684885</td>\n",
       "      <td>9618</td>\n",
       "    </tr>\n",
       "    <tr>\n",
       "      <th>WSF5</th>\n",
       "      <td>50.118814</td>\n",
       "      <td>9702</td>\n",
       "    </tr>\n",
       "    <tr>\n",
       "      <th>WSFG</th>\n",
       "      <td>61.447464</td>\n",
       "      <td>11895</td>\n",
       "    </tr>\n",
       "    <tr>\n",
       "      <th>WSFM</th>\n",
       "      <td>99.994834</td>\n",
       "      <td>19357</td>\n",
       "    </tr>\n",
       "    <tr>\n",
       "      <th>WT01</th>\n",
       "      <td>63.028205</td>\n",
       "      <td>12201</td>\n",
       "    </tr>\n",
       "    <tr>\n",
       "      <th>WT02</th>\n",
       "      <td>93.506561</td>\n",
       "      <td>18101</td>\n",
       "    </tr>\n",
       "    <tr>\n",
       "      <th>WT03</th>\n",
       "      <td>93.351586</td>\n",
       "      <td>18071</td>\n",
       "    </tr>\n",
       "    <tr>\n",
       "      <th>WT04</th>\n",
       "      <td>98.259118</td>\n",
       "      <td>19021</td>\n",
       "    </tr>\n",
       "    <tr>\n",
       "      <th>WT05</th>\n",
       "      <td>98.119640</td>\n",
       "      <td>18994</td>\n",
       "    </tr>\n",
       "    <tr>\n",
       "      <th>WT06</th>\n",
       "      <td>99.064986</td>\n",
       "      <td>19177</td>\n",
       "    </tr>\n",
       "    <tr>\n",
       "      <th>WT07</th>\n",
       "      <td>99.442091</td>\n",
       "      <td>19250</td>\n",
       "    </tr>\n",
       "    <tr>\n",
       "      <th>WT08</th>\n",
       "      <td>79.744808</td>\n",
       "      <td>15437</td>\n",
       "    </tr>\n",
       "    <tr>\n",
       "      <th>WT09</th>\n",
       "      <td>99.276785</td>\n",
       "      <td>19218</td>\n",
       "    </tr>\n",
       "    <tr>\n",
       "      <th>WT11</th>\n",
       "      <td>99.927678</td>\n",
       "      <td>19344</td>\n",
       "    </tr>\n",
       "    <tr>\n",
       "      <th>WT13</th>\n",
       "      <td>88.712677</td>\n",
       "      <td>17173</td>\n",
       "    </tr>\n",
       "    <tr>\n",
       "      <th>WT14</th>\n",
       "      <td>95.417915</td>\n",
       "      <td>18471</td>\n",
       "    </tr>\n",
       "    <tr>\n",
       "      <th>WT15</th>\n",
       "      <td>99.783035</td>\n",
       "      <td>19316</td>\n",
       "    </tr>\n",
       "    <tr>\n",
       "      <th>WT16</th>\n",
       "      <td>66.024383</td>\n",
       "      <td>12781</td>\n",
       "    </tr>\n",
       "    <tr>\n",
       "      <th>WT17</th>\n",
       "      <td>99.690051</td>\n",
       "      <td>19298</td>\n",
       "    </tr>\n",
       "    <tr>\n",
       "      <th>WT18</th>\n",
       "      <td>93.971485</td>\n",
       "      <td>18191</td>\n",
       "    </tr>\n",
       "    <tr>\n",
       "      <th>WT21</th>\n",
       "      <td>99.974171</td>\n",
       "      <td>19353</td>\n",
       "    </tr>\n",
       "    <tr>\n",
       "      <th>WT22</th>\n",
       "      <td>99.746875</td>\n",
       "      <td>19309</td>\n",
       "    </tr>\n",
       "    <tr>\n",
       "      <th>WV01</th>\n",
       "      <td>99.994834</td>\n",
       "      <td>19357</td>\n",
       "    </tr>\n",
       "  </tbody>\n",
       "</table>\n",
       "</div>"
      ],
      "text/plain": [
       "      Percentage of null values  Total NaN values\n",
       "ACMH                  50.330613              9743\n",
       "ACSH                  50.325447              9742\n",
       "AWND                  26.428350              5116\n",
       "FMTM                  47.701209              9234\n",
       "PGTM                  36.620519              7089\n",
       "SNWD                   0.005166                 1\n",
       "TAVG                  67.791094             13123\n",
       "TSUN                  99.839859             19327\n",
       "WDF1                  50.351276              9747\n",
       "WDF2                  49.684885              9618\n",
       "WDF5                  50.113648              9701\n",
       "WDFG                  73.545821             14237\n",
       "WDFM                  99.994834             19357\n",
       "WESD                  68.638289             13287\n",
       "WSF1                  50.335778              9744\n",
       "WSF2                  49.684885              9618\n",
       "WSF5                  50.118814              9702\n",
       "WSFG                  61.447464             11895\n",
       "WSFM                  99.994834             19357\n",
       "WT01                  63.028205             12201\n",
       "WT02                  93.506561             18101\n",
       "WT03                  93.351586             18071\n",
       "WT04                  98.259118             19021\n",
       "WT05                  98.119640             18994\n",
       "WT06                  99.064986             19177\n",
       "WT07                  99.442091             19250\n",
       "WT08                  79.744808             15437\n",
       "WT09                  99.276785             19218\n",
       "WT11                  99.927678             19344\n",
       "WT13                  88.712677             17173\n",
       "WT14                  95.417915             18471\n",
       "WT15                  99.783035             19316\n",
       "WT16                  66.024383             12781\n",
       "WT17                  99.690051             19298\n",
       "WT18                  93.971485             18191\n",
       "WT21                  99.974171             19353\n",
       "WT22                  99.746875             19309\n",
       "WV01                  99.994834             19357"
      ]
     },
     "execution_count": 51,
     "metadata": {},
     "output_type": "execute_result"
    }
   ],
   "source": [
    "null_percentage"
   ]
  },
  {
   "cell_type": "code",
   "execution_count": 52,
   "id": "95679c12-cc4b-48c1-a1da-6b06c72d5d5f",
   "metadata": {},
   "outputs": [
    {
     "name": "stdout",
     "output_type": "stream",
     "text": [
      "['ACMH', 'ACSH', 'AWND', 'FMTM', 'PGTM', 'SNWD', 'TAVG', 'TSUN', 'WDF1', 'WDF2', 'WDF5', 'WDFG', 'WDFM', 'WESD', 'WSF1', 'WSF2', 'WSF5', 'WSFG', 'WSFM', 'WT01', 'WT02', 'WT03', 'WT04', 'WT05', 'WT06', 'WT07', 'WT08', 'WT09', 'WT11', 'WT13', 'WT14', 'WT15', 'WT16', 'WT17', 'WT18', 'WT21', 'WT22', 'WV01']\n"
     ]
    }
   ],
   "source": [
    "null_cols = null_percentage.index.tolist()\n",
    "print(null_cols)"
   ]
  },
  {
   "cell_type": "code",
   "execution_count": 53,
   "id": "1bc90a1a-3990-4fc0-9e34-d718f17b2c21",
   "metadata": {},
   "outputs": [
    {
     "data": {
      "text/plain": [
       "<AxesSubplot:>"
      ]
     },
     "execution_count": 53,
     "metadata": {},
     "output_type": "execute_result"
    },
    {
     "data": {
      "image/png": "[encoded data removed]",
      "text/plain": [
       "<Figure size 1800x720 with 2 Axes>"
      ]
     },
     "metadata": {
      "needs_background": "light"
     },
     "output_type": "display_data"
    }
   ],
   "source": [
    "mno.matrix(weather[null_cols])"
   ]
  },
  {
   "cell_type": "code",
   "execution_count": 54,
   "id": "19e63f1f-9f65-4848-83de-1ecdbfbaf449",
   "metadata": {},
   "outputs": [],
   "source": [
    "weatherdf = weather.copy()\n",
    "weatherdf.columns = map(str.lower, weatherdf.columns)"
   ]
  },
  {
   "cell_type": "code",
   "execution_count": 55,
   "id": "d6ed4b9c-698b-4d34-a0a8-e9e12d85e262",
   "metadata": {},
   "outputs": [
    {
     "data": {
      "text/html": [
       "<div>\n",
       "<style scoped>\n",
       "    .dataframe tbody tr th:only-of-type {\n",
       "        vertical-align: middle;\n",
       "    }\n",
       "\n",
       "    .dataframe tbody tr th {\n",
       "        vertical-align: top;\n",
       "    }\n",
       "\n",
       "    .dataframe thead th {\n",
       "        text-align: right;\n",
       "    }\n",
       "</style>\n",
       "<table border=\"1\" class=\"dataframe\">\n",
       "  <thead>\n",
       "    <tr style=\"text-align: right;\">\n",
       "      <th></th>\n",
       "      <th>station</th>\n",
       "      <th>name</th>\n",
       "      <th>acmh</th>\n",
       "      <th>acsh</th>\n",
       "      <th>awnd</th>\n",
       "      <th>fmtm</th>\n",
       "      <th>pgtm</th>\n",
       "      <th>prcp</th>\n",
       "      <th>snow</th>\n",
       "      <th>snwd</th>\n",
       "      <th>...</th>\n",
       "      <th>wt11</th>\n",
       "      <th>wt13</th>\n",
       "      <th>wt14</th>\n",
       "      <th>wt15</th>\n",
       "      <th>wt16</th>\n",
       "      <th>wt17</th>\n",
       "      <th>wt18</th>\n",
       "      <th>wt21</th>\n",
       "      <th>wt22</th>\n",
       "      <th>wv01</th>\n",
       "    </tr>\n",
       "    <tr>\n",
       "      <th>DATE</th>\n",
       "      <th></th>\n",
       "      <th></th>\n",
       "      <th></th>\n",
       "      <th></th>\n",
       "      <th></th>\n",
       "      <th></th>\n",
       "      <th></th>\n",
       "      <th></th>\n",
       "      <th></th>\n",
       "      <th></th>\n",
       "      <th></th>\n",
       "      <th></th>\n",
       "      <th></th>\n",
       "      <th></th>\n",
       "      <th></th>\n",
       "      <th></th>\n",
       "      <th></th>\n",
       "      <th></th>\n",
       "      <th></th>\n",
       "      <th></th>\n",
       "      <th></th>\n",
       "    </tr>\n",
       "  </thead>\n",
       "  <tbody>\n",
       "    <tr>\n",
       "      <th>1970-01-01</th>\n",
       "      <td>USW00094789</td>\n",
       "      <td>JFK INTERNATIONAL AIRPORT, NY US</td>\n",
       "      <td>80.0</td>\n",
       "      <td>90.0</td>\n",
       "      <td>NaN</td>\n",
       "      <td>NaN</td>\n",
       "      <td>NaN</td>\n",
       "      <td>0.00</td>\n",
       "      <td>0.0</td>\n",
       "      <td>0.0</td>\n",
       "      <td>...</td>\n",
       "      <td>NaN</td>\n",
       "      <td>NaN</td>\n",
       "      <td>NaN</td>\n",
       "      <td>NaN</td>\n",
       "      <td>NaN</td>\n",
       "      <td>NaN</td>\n",
       "      <td>NaN</td>\n",
       "      <td>NaN</td>\n",
       "      <td>NaN</td>\n",
       "      <td>NaN</td>\n",
       "    </tr>\n",
       "    <tr>\n",
       "      <th>1970-01-02</th>\n",
       "      <td>USW00094789</td>\n",
       "      <td>JFK INTERNATIONAL AIRPORT, NY US</td>\n",
       "      <td>30.0</td>\n",
       "      <td>20.0</td>\n",
       "      <td>NaN</td>\n",
       "      <td>NaN</td>\n",
       "      <td>NaN</td>\n",
       "      <td>0.00</td>\n",
       "      <td>0.0</td>\n",
       "      <td>0.0</td>\n",
       "      <td>...</td>\n",
       "      <td>NaN</td>\n",
       "      <td>NaN</td>\n",
       "      <td>NaN</td>\n",
       "      <td>NaN</td>\n",
       "      <td>NaN</td>\n",
       "      <td>NaN</td>\n",
       "      <td>NaN</td>\n",
       "      <td>NaN</td>\n",
       "      <td>NaN</td>\n",
       "      <td>NaN</td>\n",
       "    </tr>\n",
       "    <tr>\n",
       "      <th>1970-01-03</th>\n",
       "      <td>USW00094789</td>\n",
       "      <td>JFK INTERNATIONAL AIRPORT, NY US</td>\n",
       "      <td>80.0</td>\n",
       "      <td>100.0</td>\n",
       "      <td>NaN</td>\n",
       "      <td>NaN</td>\n",
       "      <td>NaN</td>\n",
       "      <td>0.02</td>\n",
       "      <td>0.0</td>\n",
       "      <td>0.0</td>\n",
       "      <td>...</td>\n",
       "      <td>NaN</td>\n",
       "      <td>NaN</td>\n",
       "      <td>NaN</td>\n",
       "      <td>NaN</td>\n",
       "      <td>1.0</td>\n",
       "      <td>NaN</td>\n",
       "      <td>1.0</td>\n",
       "      <td>NaN</td>\n",
       "      <td>NaN</td>\n",
       "      <td>NaN</td>\n",
       "    </tr>\n",
       "    <tr>\n",
       "      <th>1970-01-04</th>\n",
       "      <td>USW00094789</td>\n",
       "      <td>JFK INTERNATIONAL AIRPORT, NY US</td>\n",
       "      <td>10.0</td>\n",
       "      <td>20.0</td>\n",
       "      <td>NaN</td>\n",
       "      <td>NaN</td>\n",
       "      <td>NaN</td>\n",
       "      <td>0.00</td>\n",
       "      <td>0.0</td>\n",
       "      <td>0.0</td>\n",
       "      <td>...</td>\n",
       "      <td>NaN</td>\n",
       "      <td>NaN</td>\n",
       "      <td>NaN</td>\n",
       "      <td>NaN</td>\n",
       "      <td>NaN</td>\n",
       "      <td>NaN</td>\n",
       "      <td>1.0</td>\n",
       "      <td>NaN</td>\n",
       "      <td>NaN</td>\n",
       "      <td>NaN</td>\n",
       "    </tr>\n",
       "    <tr>\n",
       "      <th>1970-01-05</th>\n",
       "      <td>USW00094789</td>\n",
       "      <td>JFK INTERNATIONAL AIRPORT, NY US</td>\n",
       "      <td>30.0</td>\n",
       "      <td>10.0</td>\n",
       "      <td>NaN</td>\n",
       "      <td>NaN</td>\n",
       "      <td>NaN</td>\n",
       "      <td>0.00</td>\n",
       "      <td>0.0</td>\n",
       "      <td>0.0</td>\n",
       "      <td>...</td>\n",
       "      <td>NaN</td>\n",
       "      <td>NaN</td>\n",
       "      <td>NaN</td>\n",
       "      <td>NaN</td>\n",
       "      <td>NaN</td>\n",
       "      <td>NaN</td>\n",
       "      <td>NaN</td>\n",
       "      <td>NaN</td>\n",
       "      <td>NaN</td>\n",
       "      <td>NaN</td>\n",
       "    </tr>\n",
       "  </tbody>\n",
       "</table>\n",
       "<p>5 rows × 44 columns</p>\n",
       "</div>"
      ],
      "text/plain": [
       "                station                              name  acmh   acsh  awnd  \\\n",
       "DATE                                                                           \n",
       "1970-01-01  USW00094789  JFK INTERNATIONAL AIRPORT, NY US  80.0   90.0   NaN   \n",
       "1970-01-02  USW00094789  JFK INTERNATIONAL AIRPORT, NY US  30.0   20.0   NaN   \n",
       "1970-01-03  USW00094789  JFK INTERNATIONAL AIRPORT, NY US  80.0  100.0   NaN   \n",
       "1970-01-04  USW00094789  JFK INTERNATIONAL AIRPORT, NY US  10.0   20.0   NaN   \n",
       "1970-01-05  USW00094789  JFK INTERNATIONAL AIRPORT, NY US  30.0   10.0   NaN   \n",
       "\n",
       "            fmtm  pgtm  prcp  snow  snwd  ...  wt11  wt13  wt14  wt15  wt16  \\\n",
       "DATE                                      ...                                 \n",
       "1970-01-01   NaN   NaN  0.00   0.0   0.0  ...   NaN   NaN   NaN   NaN   NaN   \n",
       "1970-01-02   NaN   NaN  0.00   0.0   0.0  ...   NaN   NaN   NaN   NaN   NaN   \n",
       "1970-01-03   NaN   NaN  0.02   0.0   0.0  ...   NaN   NaN   NaN   NaN   1.0   \n",
       "1970-01-04   NaN   NaN  0.00   0.0   0.0  ...   NaN   NaN   NaN   NaN   NaN   \n",
       "1970-01-05   NaN   NaN  0.00   0.0   0.0  ...   NaN   NaN   NaN   NaN   NaN   \n",
       "\n",
       "            wt17  wt18  wt21  wt22  wv01  \n",
       "DATE                                      \n",
       "1970-01-01   NaN   NaN   NaN   NaN   NaN  \n",
       "1970-01-02   NaN   NaN   NaN   NaN   NaN  \n",
       "1970-01-03   NaN   1.0   NaN   NaN   NaN  \n",
       "1970-01-04   NaN   1.0   NaN   NaN   NaN  \n",
       "1970-01-05   NaN   NaN   NaN   NaN   NaN  \n",
       "\n",
       "[5 rows x 44 columns]"
      ]
     },
     "execution_count": 55,
     "metadata": {},
     "output_type": "execute_result"
    }
   ],
   "source": [
    "weatherdf.head()"
   ]
  },
  {
   "cell_type": "code",
   "execution_count": 74,
   "id": "2df1a545-48ae-406f-abb4-b1f45782d02e",
   "metadata": {},
   "outputs": [
    {
     "data": {
      "text/plain": [
       "station     object\n",
       "name        object\n",
       "acmh       float64\n",
       "acsh       float64\n",
       "awnd       float64\n",
       "fmtm       float64\n",
       "pgtm       float64\n",
       "prcp       float64\n",
       "snow       float64\n",
       "snwd       float64\n",
       "tavg       float64\n",
       "tmax         int64\n",
       "tmin         int64\n",
       "tsun       float64\n",
       "wdf1       float64\n",
       "wdf2       float64\n",
       "wdf5       float64\n",
       "wdfg       float64\n",
       "wdfm       float64\n",
       "wesd       float64\n",
       "wsf1       float64\n",
       "wsf2       float64\n",
       "wsf5       float64\n",
       "wsfg       float64\n",
       "wsfm       float64\n",
       "wt01       float64\n",
       "wt02       float64\n",
       "wt03       float64\n",
       "wt04       float64\n",
       "wt05       float64\n",
       "wt06       float64\n",
       "wt07       float64\n",
       "wt08       float64\n",
       "wt09       float64\n",
       "wt11       float64\n",
       "wt13       float64\n",
       "wt14       float64\n",
       "wt15       float64\n",
       "wt16       float64\n",
       "wt17       float64\n",
       "wt18       float64\n",
       "wt21       float64\n",
       "wt22       float64\n",
       "wv01       float64\n",
       "dtype: object"
      ]
     },
     "execution_count": 74,
     "metadata": {},
     "output_type": "execute_result"
    }
   ],
   "source": [
    "weatherdf.dtypes"
   ]
  },
  {
   "cell_type": "code",
   "execution_count": 73,
   "id": "48b71f26-f600-4257-aec6-7c7a63fa5156",
   "metadata": {},
   "outputs": [
    {
     "data": {
      "text/plain": [
       "DatetimeIndex(['1970-01-01', '1970-01-02', '1970-01-03', '1970-01-04',\n",
       "               '1970-01-05', '1970-01-06', '1970-01-07', '1970-01-08',\n",
       "               '1970-01-09', '1970-01-10',\n",
       "               ...\n",
       "               '2022-12-22', '2022-12-23', '2022-12-24', '2022-12-25',\n",
       "               '2022-12-26', '2022-12-27', '2022-12-28', '2022-12-29',\n",
       "               '2022-12-30', '2022-12-31'],\n",
       "              dtype='datetime64[ns]', name='DATE', length=19358, freq=None)"
      ]
     },
     "execution_count": 73,
     "metadata": {},
     "output_type": "execute_result"
    }
   ],
   "source": [
    "weatherdf.index = pd.to_datetime(weatherdf.index)\n",
    "weatherdf.index"
   ]
  },
  {
   "cell_type": "code",
   "execution_count": 79,
   "id": "268bdabf-c1d8-4e44-9ff2-4711759f08be",
   "metadata": {},
   "outputs": [
    {
     "data": {
      "text/plain": [
       "Int64Index([1970, 1970, 1970, 1970, 1970, 1970, 1970, 1970, 1970, 1970,\n",
       "            ...\n",
       "            2022, 2022, 2022, 2022, 2022, 2022, 2022, 2022, 2022, 2022],\n",
       "           dtype='int64', name='DATE', length=19358)"
      ]
     },
     "execution_count": 79,
     "metadata": {},
     "output_type": "execute_result"
    }
   ],
   "source": [
    "# subset the years \n",
    "weatherdf.index.year"
   ]
  },
  {
   "cell_type": "code",
   "execution_count": 80,
   "id": "54d5d50a-0aae-4199-907d-43b1d5cf650f",
   "metadata": {},
   "outputs": [
    {
     "data": {
      "text/plain": [
       "station    0\n",
       "name       0\n",
       "acmh       0\n",
       "acsh       0\n",
       "awnd       0\n",
       "fmtm       2\n",
       "pgtm       0\n",
       "prcp       0\n",
       "snow       0\n",
       "snwd       0\n",
       "tavg       0\n",
       "tmax       0\n",
       "tmin       0\n",
       "tsun       0\n",
       "wdf1       0\n",
       "wdf2       0\n",
       "wdf5       0\n",
       "wdfg       0\n",
       "wdfm       0\n",
       "wesd       0\n",
       "wsf1       0\n",
       "wsf2       0\n",
       "wsf5       0\n",
       "wsfg       0\n",
       "wsfm       0\n",
       "wt01       0\n",
       "wt02       0\n",
       "wt03       0\n",
       "wt04       0\n",
       "wt05       0\n",
       "wt06       0\n",
       "wt07       0\n",
       "wt08       0\n",
       "wt09       0\n",
       "wt11       0\n",
       "wt13       0\n",
       "wt14       0\n",
       "wt15       0\n",
       "wt16       0\n",
       "wt17       0\n",
       "wt18       0\n",
       "wt21       0\n",
       "wt22       0\n",
       "wv01       0\n",
       "dtype: int64"
      ]
     },
     "execution_count": 80,
     "metadata": {},
     "output_type": "execute_result"
    }
   ],
   "source": [
    "# check whether columns have 9999s\n",
    "weatherdf.apply(lambda x: (x==9999).sum())"
   ]
  },
  {
   "cell_type": "code",
   "execution_count": 82,
   "id": "9aecd089-2e62-4114-abb7-2b77bcd79cca",
   "metadata": {},
   "outputs": [
    {
     "name": "stdout",
     "output_type": "stream",
     "text": [
      "(0, 'station')\n",
      "(1, 'name')\n",
      "(2, 'acmh')\n",
      "(3, 'acsh')\n",
      "(4, 'awnd')\n",
      "(5, 'fmtm')\n",
      "(6, 'pgtm')\n",
      "(7, 'prcp')\n",
      "(8, 'snow')\n",
      "(9, 'snwd')\n",
      "(10, 'tavg')\n",
      "(11, 'tmax')\n",
      "(12, 'tmin')\n",
      "(13, 'tsun')\n",
      "(14, 'wdf1')\n",
      "(15, 'wdf2')\n",
      "(16, 'wdf5')\n",
      "(17, 'wdfg')\n",
      "(18, 'wdfm')\n",
      "(19, 'wesd')\n",
      "(20, 'wsf1')\n",
      "(21, 'wsf2')\n",
      "(22, 'wsf5')\n",
      "(23, 'wsfg')\n",
      "(24, 'wsfm')\n",
      "(25, 'wt01')\n",
      "(26, 'wt02')\n",
      "(27, 'wt03')\n",
      "(28, 'wt04')\n",
      "(29, 'wt05')\n",
      "(30, 'wt06')\n",
      "(31, 'wt07')\n",
      "(32, 'wt08')\n",
      "(33, 'wt09')\n",
      "(34, 'wt11')\n",
      "(35, 'wt13')\n",
      "(36, 'wt14')\n",
      "(37, 'wt15')\n",
      "(38, 'wt16')\n",
      "(39, 'wt17')\n",
      "(40, 'wt18')\n",
      "(41, 'wt21')\n",
      "(42, 'wt22')\n",
      "(43, 'wv01')\n"
     ]
    }
   ],
   "source": [
    "for i in enumerate(weatherdf.columns):"
   ]
  },
  {
   "cell_type": "code",
   "execution_count": 90,
   "id": "06325eb3-a580-4acc-9a3b-200ee39c8e3f",
   "metadata": {},
   "outputs": [
    {
     "data": {
      "image/png": "[encoded data removed]",
      "text/plain": [
       "<Figure size 1080x5760 with 1 Axes>"
      ]
     },
     "metadata": {
      "needs_background": "light"
     },
     "output_type": "display_data"
    },
    {
     "data": {
      "image/png": "[encoded data removed]",
      "text/plain": [
       "<Figure size 432x288 with 1 Axes>"
      ]
     },
     "metadata": {
      "needs_background": "light"
     },
     "output_type": "display_data"
    },
    {
     "data": {
      "image/png": "[encoded data removed]",
      "text/plain": [
       "<Figure size 432x288 with 1 Axes>"
      ]
     },
     "metadata": {
      "needs_background": "light"
     },
     "output_type": "display_data"
    },
    {
     "data": {
      "image/png": "[encoded data removed]",
      "text/plain": [
       "<Figure size 432x288 with 1 Axes>"
      ]
     },
     "metadata": {
      "needs_background": "light"
     },
     "output_type": "display_data"
    },
    {
     "data": {
      "image/png": "[encoded data removed]",
      "text/plain": [
       "<Figure size 432x288 with 1 Axes>"
      ]
     },
     "metadata": {
      "needs_background": "light"
     },
     "output_type": "display_data"
    },
    {
     "data": {
      "image/png": "[encoded data removed]",
      "text/plain": [
       "<Figure size 432x288 with 1 Axes>"
      ]
     },
     "metadata": {
      "needs_background": "light"
     },
     "output_type": "display_data"
    },
    {
     "data": {
      "image/png": "[encoded data removed]",
      "text/plain": [
       "<Figure size 432x288 with 1 Axes>"
      ]
     },
     "metadata": {
      "needs_background": "light"
     },
     "output_type": "display_data"
    },
    {
     "data": {
      "image/png": "[encoded data removed]",
      "text/plain": [
       "<Figure size 432x288 with 1 Axes>"
      ]
     },
     "metadata": {
      "needs_background": "light"
     },
     "output_type": "display_data"
    },
    {
     "name": "stderr",
     "output_type": "stream",
     "text": [
      "C:\\Users\\user\\AppData\\Local\\Temp\\ipykernel_3632\\1834873319.py:7: RuntimeWarning: Second argument 'snow' is ambiguous: could be a format string but is in 'data'; using as data.  If it was intended as data, set the format string to an empty string to suppress this warning.  If it was intended as a format string, explicitly pass the x-values as well.  Alternatively, rename the entry in 'data'.\n",
      "  plt.plot(weatherdf.index, i[1],data=weatherdf)\n"
     ]
    },
    {
     "data": {
      "image/png": "[encoded data removed]",
      "text/plain": [
       "<Figure size 432x288 with 1 Axes>"
      ]
     },
     "metadata": {
      "needs_background": "light"
     },
     "output_type": "display_data"
    },
    {
     "data": {
      "image/png": "[encoded data removed]",
      "text/plain": [
       "<Figure size 432x288 with 1 Axes>"
      ]
     },
     "metadata": {
      "needs_background": "light"
     },
     "output_type": "display_data"
    },
    {
     "data": {
      "image/png": "[encoded data removed]",
      "text/plain": [
       "<Figure size 432x288 with 1 Axes>"
      ]
     },
     "metadata": {
      "needs_background": "light"
     },
     "output_type": "display_data"
    },
    {
     "data": {
      "image/png": "[encoded data removed]",
      "text/plain": [
       "<Figure size 432x288 with 1 Axes>"
      ]
     },
     "metadata": {
      "needs_background": "light"
     },
     "output_type": "display_data"
    },
    {
     "data": {
      "image/png": "[encoded data removed]",
      "text/plain": [
       "<Figure size 432x288 with 1 Axes>"
      ]
     },
     "metadata": {
      "needs_background": "light"
     },
     "output_type": "display_data"
    },
    {
     "data": {
      "image/png": "[encoded data removed]",
      "text/plain": [
       "<Figure size 432x288 with 1 Axes>"
      ]
     },
     "metadata": {
      "needs_background": "light"
     },
     "output_type": "display_data"
    },
    {
     "data": {
      "image/png": "[encoded data removed]",
      "text/plain": [
       "<Figure size 432x288 with 1 Axes>"
      ]
     },
     "metadata": {
      "needs_background": "light"
     },
     "output_type": "display_data"
    },
    {
     "data": {
      "image/png": "[encoded data removed]",
      "text/plain": [
       "<Figure size 432x288 with 1 Axes>"
      ]
     },
     "metadata": {
      "needs_background": "light"
     },
     "output_type": "display_data"
    },
    {
     "data": {
      "image/png": "[encoded data removed]",
      "text/plain": [
       "<Figure size 432x288 with 1 Axes>"
      ]
     },
     "metadata": {
      "needs_background": "light"
     },
     "output_type": "display_data"
    },
    {
     "data": {
      "image/png": "[encoded data removed]",
      "text/plain": [
       "<Figure size 432x288 with 1 Axes>"
      ]
     },
     "metadata": {
      "needs_background": "light"
     },
     "output_type": "display_data"
    },
    {
     "data": {
      "image/png": "[encoded data removed]",
      "text/plain": [
       "<Figure size 432x288 with 1 Axes>"
      ]
     },
     "metadata": {
      "needs_background": "light"
     },
     "output_type": "display_data"
    },
    {
     "data": {
      "image/png": "[encoded data removed]",
      "text/plain": [
       "<Figure size 432x288 with 1 Axes>"
      ]
     },
     "metadata": {
      "needs_background": "light"
     },
     "output_type": "display_data"
    },
    {
     "data": {
      "image/png": "[encoded data removed]",
      "text/plain": [
       "<Figure size 432x288 with 1 Axes>"
      ]
     },
     "metadata": {
      "needs_background": "light"
     },
     "output_type": "display_data"
    },
    {
     "data": {
      "image/png": "[encoded data removed]",
      "text/plain": [
       "<Figure size 432x288 with 1 Axes>"
      ]
     },
     "metadata": {
      "needs_background": "light"
     },
     "output_type": "display_data"
    },
    {
     "data": {
      "image/png": "[encoded data removed]",
      "text/plain": [
       "<Figure size 432x288 with 1 Axes>"
      ]
     },
     "metadata": {
      "needs_background": "light"
     },
     "output_type": "display_data"
    },
    {
     "data": {
      "image/png": "[encoded data removed]",
      "text/plain": [
       "<Figure size 432x288 with 1 Axes>"
      ]
     },
     "metadata": {
      "needs_background": "light"
     },
     "output_type": "display_data"
    },
    {
     "data": {
      "image/png": "[encoded data removed]",
      "text/plain": [
       "<Figure size 432x288 with 1 Axes>"
      ]
     },
     "metadata": {
      "needs_background": "light"
     },
     "output_type": "display_data"
    },
    {
     "data": {
      "image/png": "[encoded data removed]",
      "text/plain": [
       "<Figure size 432x288 with 1 Axes>"
      ]
     },
     "metadata": {
      "needs_background": "light"
     },
     "output_type": "display_data"
    },
    {
     "data": {
      "image/png": "[encoded data removed]",
      "text/plain": [
       "<Figure size 432x288 with 1 Axes>"
      ]
     },
     "metadata": {
      "needs_background": "light"
     },
     "output_type": "display_data"
    },
    {
     "data": {
      "image/png": "[encoded data removed]",
      "text/plain": [
       "<Figure size 432x288 with 1 Axes>"
      ]
     },
     "metadata": {
      "needs_background": "light"
     },
     "output_type": "display_data"
    },
    {
     "data": {
      "image/png": "[encoded data removed]",
      "text/plain": [
       "<Figure size 432x288 with 1 Axes>"
      ]
     },
     "metadata": {
      "needs_background": "light"
     },
     "output_type": "display_data"
    },
    {
     "data": {
      "image/png": "[encoded data removed]",
      "text/plain": [
       "<Figure size 432x288 with 1 Axes>"
      ]
     },
     "metadata": {
      "needs_background": "light"
     },
     "output_type": "display_data"
    },
    {
     "data": {
      "image/png": "[encoded data removed]",
      "text/plain": [
       "<Figure size 432x288 with 1 Axes>"
      ]
     },
     "metadata": {
      "needs_background": "light"
     },
     "output_type": "display_data"
    },
    {
     "data": {
      "image/png": "[encoded data removed]",
      "text/plain": [
       "<Figure size 432x288 with 1 Axes>"
      ]
     },
     "metadata": {
      "needs_background": "light"
     },
     "output_type": "display_data"
    },
    {
     "data": {
      "image/png": "[encoded data removed]",
      "text/plain": [
       "<Figure size 432x288 with 1 Axes>"
      ]
     },
     "metadata": {
      "needs_background": "light"
     },
     "output_type": "display_data"
    },
    {
     "data": {
      "image/png": "[encoded data removed]",
      "text/plain": [
       "<Figure size 432x288 with 1 Axes>"
      ]
     },
     "metadata": {
      "needs_background": "light"
     },
     "output_type": "display_data"
    },
    {
     "data": {
      "image/png": "[encoded data removed]",
      "text/plain": [
       "<Figure size 432x288 with 1 Axes>"
      ]
     },
     "metadata": {
      "needs_background": "light"
     },
     "output_type": "display_data"
    },
    {
     "data": {
      "image/png": "[encoded data removed]",
      "text/plain": [
       "<Figure size 432x288 with 1 Axes>"
      ]
     },
     "metadata": {
      "needs_background": "light"
     },
     "output_type": "display_data"
    },
    {
     "data": {
      "image/png": "[encoded data removed]",
      "text/plain": [
       "<Figure size 432x288 with 1 Axes>"
      ]
     },
     "metadata": {
      "needs_background": "light"
     },
     "output_type": "display_data"
    },
    {
     "data": {
      "image/png": "[encoded data removed]",
      "text/plain": [
       "<Figure size 432x288 with 1 Axes>"
      ]
     },
     "metadata": {
      "needs_background": "light"
     },
     "output_type": "display_data"
    },
    {
     "data": {
      "image/png": "[encoded data removed]",
      "text/plain": [
       "<Figure size 432x288 with 1 Axes>"
      ]
     },
     "metadata": {
      "needs_background": "light"
     },
     "output_type": "display_data"
    },
    {
     "data": {
      "image/png": "[encoded data removed]",
      "text/plain": [
       "<Figure size 432x288 with 1 Axes>"
      ]
     },
     "metadata": {
      "needs_background": "light"
     },
     "output_type": "display_data"
    },
    {
     "data": {
      "image/png": "[encoded data removed]",
      "text/plain": [
       "<Figure size 432x288 with 1 Axes>"
      ]
     },
     "metadata": {
      "needs_background": "light"
     },
     "output_type": "display_data"
    },
    {
     "data": {
      "image/png": "[encoded data removed]",
      "text/plain": [
       "<Figure size 432x288 with 1 Axes>"
      ]
     },
     "metadata": {
      "needs_background": "light"
     },
     "output_type": "display_data"
    },
    {
     "data": {
      "image/png": "[encoded data removed]",
      "text/plain": [
       "<Figure size 432x288 with 1 Axes>"
      ]
     },
     "metadata": {
      "needs_background": "light"
     },
     "output_type": "display_data"
    },
    {
     "data": {
      "image/png": "[encoded data removed]",
      "text/plain": [
       "<Figure size 432x288 with 1 Axes>"
      ]
     },
     "metadata": {
      "needs_background": "light"
     },
     "output_type": "display_data"
    }
   ],
   "source": [
    "# for loop\n",
    "plt.figure(figsize=(15,80))\n",
    "for i in enumerate (weatherdf.columns):\n",
    "    #     give the size of figplot\n",
    "    plt.subplot(22,2,i[0]+1)\n",
    "    # plot functionality\n",
    "    plt.plot(weatherdf.index, i[1],data=weatherdf)\n",
    "    plt.xlabel(\"Date\")\n",
    "    plt.ylabel(i[1])\n",
    "    plt.show()"
   ]
  },
  {
   "cell_type": "code",
   "execution_count": null,
   "id": "856fc8f1-6753-4629-8b02-a8e793cd57c5",
   "metadata": {},
   "outputs": [],
   "source": []
  },
  {
   "cell_type": "code",
   "execution_count": null,
   "id": "abf12a51-b640-4753-a322-c95b31b6539f",
   "metadata": {},
   "outputs": [],
   "source": []
  },
  {
   "cell_type": "code",
   "execution_count": null,
   "id": "71edfa21-8eec-4946-9497-80db473321bd",
   "metadata": {},
   "outputs": [],
   "source": []
  },
  {
   "cell_type": "code",
   "execution_count": 56,
   "id": "d6298b7d-765d-49fd-a6b5-d34605490917",
   "metadata": {},
   "outputs": [
    {
     "data": {
      "text/plain": [
       "<AxesSubplot:>"
      ]
     },
     "execution_count": 56,
     "metadata": {},
     "output_type": "execute_result"
    },
    {
     "data": {
      "image/png": "[encoded data removed]",
      "text/plain": [
       "<Figure size 1440x864 with 2 Axes>"
      ]
     },
     "metadata": {
      "needs_background": "light"
     },
     "output_type": "display_data"
    }
   ],
   "source": [
    "mno.heatmap(weather)"
   ]
  },
  {
   "cell_type": "markdown",
   "id": "cd106ac2-90ed-40b0-8f6d-46c0e96fab18",
   "metadata": {},
   "source": [
    "## POSITIVE CORRELATION \n",
    "* ACSH: ACMH\n",
    "* WDF1 : ACMH, ACSH\n",
    "* WDF5 : WDF2\n",
    "* WSF1, ACMH, ACSH, WDF1\n",
    "* WSF5, WDF2,WDF5, WSF2\n",
    "* WSFM , WDFM\n",
    "## NEGATIVE CORRELATION\n",
    "* WDF2, WDF1, ACMH, ACSH\n",
    "* WDF5 : WDF1, ACMH, ACSH\n",
    "* WSF1: WDF2, WDF5\n",
    "* WSF2: ACMH, ACSH , WDF1, WSF1\n",
    "* WSF5: ACMH, ACSH, WDF1, WSF1"
   ]
  },
  {
   "cell_type": "code",
   "execution_count": 57,
   "id": "4d2dd811-22ce-4d51-864a-170d5f83ffc1",
   "metadata": {},
   "outputs": [
    {
     "name": "stdout",
     "output_type": "stream",
     "text": [
      "6\n",
      "['STATION', 'NAME', 'PRCP', 'SNOW', 'TMAX', 'TMIN']\n",
      "1\n",
      "['SNWD']\n",
      "0\n",
      "[]\n",
      "37\n",
      "['ACMH', 'ACSH', 'AWND', 'FMTM', 'PGTM', 'TAVG', 'TSUN', 'WDF1', 'WDF2', 'WDF5', 'WDFG', 'WDFM', 'WESD', 'WSF1', 'WSF2', 'WSF5', 'WSFG', 'WSFM', 'WT01', 'WT02', 'WT03', 'WT04', 'WT05', 'WT06', 'WT07', 'WT08', 'WT09', 'WT11', 'WT13', 'WT14', 'WT15', 'WT16', 'WT17', 'WT18', 'WT21', 'WT22', 'WV01']\n"
     ]
    }
   ],
   "source": [
    "# columns with non-null values\n",
    "non_null_columns = []\n",
    "less_than5_columns = []\n",
    "less_than25_columns = []\n",
    "more_than25_columns = []\n",
    "for column in weather.columns:\n",
    "    if (weather[column].apply(pd.isnull).sum()/weather.shape[0])*100 == 0.0:\n",
    "        non_null_columns.append(column)\n",
    "    elif weather[column].apply(pd.isnull).sum()/weather.shape[0]*100 > 0.0 and weather[column].apply(pd.isnull).sum()/weather.shape[0]*100 <= 5.0 :\n",
    "        less_than5_columns.append(column)\n",
    "    elif weather[column].apply(pd.isnull).sum()/weather.shape[0]*100 > 5.0 and weather[column].apply(pd.isnull).sum()/weather.shape[0]*100 <= 25.0:\n",
    "        less_than25_columns.append(column)\n",
    "    elif (weather[column].apply(pd.isnull).sum()/weather.shape[0])*100 > 25.0:\n",
    "        more_than25_columns.append(column)\n",
    "print(len(non_null_columns))\n",
    "print(non_null_columns)\n",
    "print(len(less_than5_columns))\n",
    "print(less_than5_columns)\n",
    "print(len(less_than25_columns))\n",
    "print(less_than25_columns)\n",
    "print(len(more_than25_columns))\n",
    "print(more_than25_columns)"
   ]
  },
  {
   "cell_type": "markdown",
   "id": "b7e3141e-27d6-4dcd-a7b6-472f55109474",
   "metadata": {},
   "source": [
    "## HANDLING MISSING VALUES FOR COLUMN WITH DATA MISSING LESS THAN 5% "
   ]
  },
  {
   "cell_type": "code",
   "execution_count": 58,
   "id": "4d618aa5-0b40-47bc-aaaf-3fe04818a916",
   "metadata": {},
   "outputs": [
    {
     "data": {
      "text/plain": [
       "9"
      ]
     },
     "execution_count": 58,
     "metadata": {},
     "output_type": "execute_result"
    }
   ],
   "source": [
    "weather.columns.get_loc(\"SNWD\")"
   ]
  },
  {
   "cell_type": "code",
   "execution_count": 59,
   "id": "5b37d918-e693-4f0f-ad1d-e5ce26b8ff8c",
   "metadata": {},
   "outputs": [],
   "source": [
    "df=weather.copy()"
   ]
  },
  {
   "cell_type": "code",
   "execution_count": 60,
   "id": "00e81e7d-b71f-439f-9fb5-c1f72b69ac6c",
   "metadata": {},
   "outputs": [
    {
     "data": {
      "text/plain": [
       "['SNWD']"
      ]
     },
     "execution_count": 60,
     "metadata": {},
     "output_type": "execute_result"
    }
   ],
   "source": [
    "cols = [var for var in df.columns if df[var].isnull().mean() < 0.05 and df[var].isnull().mean()>0]\n",
    "cols\n",
    "# df.dropna(subset=['STATION','SNWD'])"
   ]
  },
  {
   "cell_type": "code",
   "execution_count": 61,
   "id": "8dc17963-a376-4e79-a5fe-f2dfa561b846",
   "metadata": {},
   "outputs": [],
   "source": [
    "df_new = df.dropna(subset=['STATION','SNWD'])"
   ]
  },
  {
   "cell_type": "code",
   "execution_count": 62,
   "id": "dc97b590-4cf9-4ab4-a77f-f3862fb2c799",
   "metadata": {},
   "outputs": [
    {
     "name": "stdout",
     "output_type": "stream",
     "text": [
      "99.99483417708441\n"
     ]
    }
   ],
   "source": [
    "print(len(df_new)/len(df)*100)"
   ]
  },
  {
   "cell_type": "code",
   "execution_count": 63,
   "id": "c851865d-01a3-4462-815c-18a35dcf11a3",
   "metadata": {},
   "outputs": [],
   "source": [
    "# if we do cca on the missing data, we only lose 0.005 % of the data"
   ]
  },
  {
   "cell_type": "code",
   "execution_count": 64,
   "id": "32b68ed9-56ea-472b-bb14-73f23eb67adc",
   "metadata": {},
   "outputs": [
    {
     "data": {
      "text/plain": [
       "(19357, 44)"
      ]
     },
     "execution_count": 64,
     "metadata": {},
     "output_type": "execute_result"
    }
   ],
   "source": [
    "df_new.shape"
   ]
  },
  {
   "cell_type": "code",
   "execution_count": 65,
   "id": "1c72668e-643d-437b-8877-7d46a19e7206",
   "metadata": {},
   "outputs": [],
   "source": [
    "null_perc=pd.DataFrame(df_new[df_new.columns[df_new.isnull().any()]].isnull().sum()*100/df_new.shape[0], columns =[\"Percentage of null values\"])\n",
    "null_perc[\"Total NaN values\"]=df_new[df_new.columns[df_new.isnull().any()]].isnull().sum()"
   ]
  },
  {
   "cell_type": "code",
   "execution_count": 66,
   "id": "2db3aa52-6dea-424d-b872-7510cd9036bb",
   "metadata": {},
   "outputs": [
    {
     "data": {
      "text/html": [
       "<div>\n",
       "<style scoped>\n",
       "    .dataframe tbody tr th:only-of-type {\n",
       "        vertical-align: middle;\n",
       "    }\n",
       "\n",
       "    .dataframe tbody tr th {\n",
       "        vertical-align: top;\n",
       "    }\n",
       "\n",
       "    .dataframe thead th {\n",
       "        text-align: right;\n",
       "    }\n",
       "</style>\n",
       "<table border=\"1\" class=\"dataframe\">\n",
       "  <thead>\n",
       "    <tr style=\"text-align: right;\">\n",
       "      <th></th>\n",
       "      <th>Percentage of null values</th>\n",
       "      <th>Total NaN values</th>\n",
       "    </tr>\n",
       "  </thead>\n",
       "  <tbody>\n",
       "    <tr>\n",
       "      <th>ACMH</th>\n",
       "      <td>50.328047</td>\n",
       "      <td>9742</td>\n",
       "    </tr>\n",
       "    <tr>\n",
       "      <th>ACSH</th>\n",
       "      <td>50.322881</td>\n",
       "      <td>9741</td>\n",
       "    </tr>\n",
       "    <tr>\n",
       "      <th>AWND</th>\n",
       "      <td>26.429715</td>\n",
       "      <td>5116</td>\n",
       "    </tr>\n",
       "    <tr>\n",
       "      <th>FMTM</th>\n",
       "      <td>47.698507</td>\n",
       "      <td>9233</td>\n",
       "    </tr>\n",
       "    <tr>\n",
       "      <th>PGTM</th>\n",
       "      <td>36.617244</td>\n",
       "      <td>7088</td>\n",
       "    </tr>\n",
       "    <tr>\n",
       "      <th>TAVG</th>\n",
       "      <td>67.794596</td>\n",
       "      <td>13123</td>\n",
       "    </tr>\n",
       "    <tr>\n",
       "      <th>TSUN</th>\n",
       "      <td>99.839851</td>\n",
       "      <td>19326</td>\n",
       "    </tr>\n",
       "    <tr>\n",
       "      <th>WDF1</th>\n",
       "      <td>50.348711</td>\n",
       "      <td>9746</td>\n",
       "    </tr>\n",
       "    <tr>\n",
       "      <th>WDF2</th>\n",
       "      <td>49.687452</td>\n",
       "      <td>9618</td>\n",
       "    </tr>\n",
       "    <tr>\n",
       "      <th>WDF5</th>\n",
       "      <td>50.116237</td>\n",
       "      <td>9701</td>\n",
       "    </tr>\n",
       "    <tr>\n",
       "      <th>WDFG</th>\n",
       "      <td>73.544454</td>\n",
       "      <td>14236</td>\n",
       "    </tr>\n",
       "    <tr>\n",
       "      <th>WDFM</th>\n",
       "      <td>99.994834</td>\n",
       "      <td>19356</td>\n",
       "    </tr>\n",
       "    <tr>\n",
       "      <th>WESD</th>\n",
       "      <td>68.636669</td>\n",
       "      <td>13286</td>\n",
       "    </tr>\n",
       "    <tr>\n",
       "      <th>WSF1</th>\n",
       "      <td>50.333213</td>\n",
       "      <td>9743</td>\n",
       "    </tr>\n",
       "    <tr>\n",
       "      <th>WSF2</th>\n",
       "      <td>49.687452</td>\n",
       "      <td>9618</td>\n",
       "    </tr>\n",
       "    <tr>\n",
       "      <th>WSF5</th>\n",
       "      <td>50.121403</td>\n",
       "      <td>9702</td>\n",
       "    </tr>\n",
       "    <tr>\n",
       "      <th>WSFG</th>\n",
       "      <td>61.445472</td>\n",
       "      <td>11894</td>\n",
       "    </tr>\n",
       "    <tr>\n",
       "      <th>WSFM</th>\n",
       "      <td>99.994834</td>\n",
       "      <td>19356</td>\n",
       "    </tr>\n",
       "    <tr>\n",
       "      <th>WT01</th>\n",
       "      <td>63.026295</td>\n",
       "      <td>12200</td>\n",
       "    </tr>\n",
       "    <tr>\n",
       "      <th>WT02</th>\n",
       "      <td>93.506225</td>\n",
       "      <td>18100</td>\n",
       "    </tr>\n",
       "    <tr>\n",
       "      <th>WT03</th>\n",
       "      <td>93.351242</td>\n",
       "      <td>18070</td>\n",
       "    </tr>\n",
       "    <tr>\n",
       "      <th>WT04</th>\n",
       "      <td>98.259028</td>\n",
       "      <td>19020</td>\n",
       "    </tr>\n",
       "    <tr>\n",
       "      <th>WT05</th>\n",
       "      <td>98.119543</td>\n",
       "      <td>18993</td>\n",
       "    </tr>\n",
       "    <tr>\n",
       "      <th>WT06</th>\n",
       "      <td>99.064938</td>\n",
       "      <td>19176</td>\n",
       "    </tr>\n",
       "    <tr>\n",
       "      <th>WT07</th>\n",
       "      <td>99.442062</td>\n",
       "      <td>19249</td>\n",
       "    </tr>\n",
       "    <tr>\n",
       "      <th>WT08</th>\n",
       "      <td>79.743762</td>\n",
       "      <td>15436</td>\n",
       "    </tr>\n",
       "    <tr>\n",
       "      <th>WT09</th>\n",
       "      <td>99.276747</td>\n",
       "      <td>19217</td>\n",
       "    </tr>\n",
       "    <tr>\n",
       "      <th>WT11</th>\n",
       "      <td>99.927675</td>\n",
       "      <td>19343</td>\n",
       "    </tr>\n",
       "    <tr>\n",
       "      <th>WT13</th>\n",
       "      <td>88.712094</td>\n",
       "      <td>17172</td>\n",
       "    </tr>\n",
       "    <tr>\n",
       "      <th>WT14</th>\n",
       "      <td>95.417678</td>\n",
       "      <td>18470</td>\n",
       "    </tr>\n",
       "    <tr>\n",
       "      <th>WT15</th>\n",
       "      <td>99.783024</td>\n",
       "      <td>19315</td>\n",
       "    </tr>\n",
       "    <tr>\n",
       "      <th>WT16</th>\n",
       "      <td>66.022627</td>\n",
       "      <td>12780</td>\n",
       "    </tr>\n",
       "    <tr>\n",
       "      <th>WT17</th>\n",
       "      <td>99.690035</td>\n",
       "      <td>19297</td>\n",
       "    </tr>\n",
       "    <tr>\n",
       "      <th>WT18</th>\n",
       "      <td>93.971173</td>\n",
       "      <td>18190</td>\n",
       "    </tr>\n",
       "    <tr>\n",
       "      <th>WT21</th>\n",
       "      <td>99.974170</td>\n",
       "      <td>19352</td>\n",
       "    </tr>\n",
       "    <tr>\n",
       "      <th>WT22</th>\n",
       "      <td>99.746862</td>\n",
       "      <td>19308</td>\n",
       "    </tr>\n",
       "    <tr>\n",
       "      <th>WV01</th>\n",
       "      <td>99.994834</td>\n",
       "      <td>19356</td>\n",
       "    </tr>\n",
       "  </tbody>\n",
       "</table>\n",
       "</div>"
      ],
      "text/plain": [
       "      Percentage of null values  Total NaN values\n",
       "ACMH                  50.328047              9742\n",
       "ACSH                  50.322881              9741\n",
       "AWND                  26.429715              5116\n",
       "FMTM                  47.698507              9233\n",
       "PGTM                  36.617244              7088\n",
       "TAVG                  67.794596             13123\n",
       "TSUN                  99.839851             19326\n",
       "WDF1                  50.348711              9746\n",
       "WDF2                  49.687452              9618\n",
       "WDF5                  50.116237              9701\n",
       "WDFG                  73.544454             14236\n",
       "WDFM                  99.994834             19356\n",
       "WESD                  68.636669             13286\n",
       "WSF1                  50.333213              9743\n",
       "WSF2                  49.687452              9618\n",
       "WSF5                  50.121403              9702\n",
       "WSFG                  61.445472             11894\n",
       "WSFM                  99.994834             19356\n",
       "WT01                  63.026295             12200\n",
       "WT02                  93.506225             18100\n",
       "WT03                  93.351242             18070\n",
       "WT04                  98.259028             19020\n",
       "WT05                  98.119543             18993\n",
       "WT06                  99.064938             19176\n",
       "WT07                  99.442062             19249\n",
       "WT08                  79.743762             15436\n",
       "WT09                  99.276747             19217\n",
       "WT11                  99.927675             19343\n",
       "WT13                  88.712094             17172\n",
       "WT14                  95.417678             18470\n",
       "WT15                  99.783024             19315\n",
       "WT16                  66.022627             12780\n",
       "WT17                  99.690035             19297\n",
       "WT18                  93.971173             18190\n",
       "WT21                  99.974170             19352\n",
       "WT22                  99.746862             19308\n",
       "WV01                  99.994834             19356"
      ]
     },
     "execution_count": 66,
     "metadata": {},
     "output_type": "execute_result"
    }
   ],
   "source": [
    "null_perc"
   ]
  },
  {
   "cell_type": "markdown",
   "id": "c3255cc6-5230-4bdb-a121-4e0fa3483ad4",
   "metadata": {},
   "source": [
    "# MEAN/MEDIAN IMPUTATION"
   ]
  },
  {
   "cell_type": "code",
   "execution_count": 67,
   "id": "820c3d70-cef2-4a41-a646-2f66fa628b5f",
   "metadata": {},
   "outputs": [],
   "source": [
    "mean_impute = weather.copy()"
   ]
  },
  {
   "cell_type": "code",
   "execution_count": null,
   "id": "74ae5d6e-05dd-4dcb-ae24-a332005badc3",
   "metadata": {},
   "outputs": [],
   "source": []
  },
  {
   "cell_type": "code",
   "execution_count": null,
   "id": "06bb3d0c-edb6-4fe2-a8a8-ec6e2c9e11ad",
   "metadata": {},
   "outputs": [],
   "source": []
  },
  {
   "cell_type": "code",
   "execution_count": null,
   "id": "fcc75e97-be89-4aac-ba10-e7cff29dc469",
   "metadata": {},
   "outputs": [],
   "source": []
  },
  {
   "cell_type": "code",
   "execution_count": null,
   "id": "844acd22-b1d0-43df-ba12-a58b9b761361",
   "metadata": {},
   "outputs": [],
   "source": []
  },
  {
   "cell_type": "code",
   "execution_count": null,
   "id": "e45692fd-0330-4dfe-9aaf-6fdde812f50b",
   "metadata": {},
   "outputs": [],
   "source": []
  },
  {
   "cell_type": "code",
   "execution_count": null,
   "id": "adedaf5f-2447-40c7-8de8-6e01005e32d4",
   "metadata": {},
   "outputs": [],
   "source": []
  },
  {
   "cell_type": "code",
   "execution_count": null,
   "id": "c06e0292-6268-4206-8211-af85bfcc9fa6",
   "metadata": {},
   "outputs": [],
   "source": []
  },
  {
   "cell_type": "code",
   "execution_count": null,
   "id": "6f0d761a-3092-483f-8526-0860d5cef5fa",
   "metadata": {},
   "outputs": [],
   "source": []
  },
  {
   "cell_type": "code",
   "execution_count": null,
   "id": "b9136ae5-cb9a-415f-8fd5-2860ed32245c",
   "metadata": {},
   "outputs": [],
   "source": []
  },
  {
   "cell_type": "code",
   "execution_count": null,
   "id": "219b2a1e-c531-44d1-9347-b5d07e644476",
   "metadata": {},
   "outputs": [],
   "source": []
  },
  {
   "cell_type": "code",
   "execution_count": null,
   "id": "6d70d774-4b68-4db3-87c9-e06fd7cf38fc",
   "metadata": {},
   "outputs": [],
   "source": []
  },
  {
   "cell_type": "code",
   "execution_count": null,
   "id": "66e5fd22-80ce-4844-8172-27f22c654107",
   "metadata": {},
   "outputs": [],
   "source": []
  },
  {
   "cell_type": "code",
   "execution_count": null,
   "id": "fd17bce7-0a82-4e83-a313-bc3c66dcc348",
   "metadata": {},
   "outputs": [],
   "source": []
  },
  {
   "cell_type": "code",
   "execution_count": null,
   "id": "233874a3-967e-4e16-8338-7fd61c3209d2",
   "metadata": {},
   "outputs": [],
   "source": []
  },
  {
   "cell_type": "code",
   "execution_count": null,
   "id": "54346583-ba27-4c96-b6bc-0bad44bd87b8",
   "metadata": {},
   "outputs": [],
   "source": []
  },
  {
   "cell_type": "code",
   "execution_count": null,
   "id": "369e6273-2af3-4857-9310-b882a3433368",
   "metadata": {},
   "outputs": [],
   "source": []
  },
  {
   "cell_type": "code",
   "execution_count": null,
   "id": "e57434f4-5e90-4fef-841a-705e83ed7886",
   "metadata": {},
   "outputs": [],
   "source": []
  },
  {
   "cell_type": "code",
   "execution_count": null,
   "id": "91498750-7082-4f28-955f-5329d076758a",
   "metadata": {},
   "outputs": [],
   "source": []
  },
  {
   "cell_type": "code",
   "execution_count": null,
   "id": "884ef86b-f636-4251-a1d2-6b7f5365408c",
   "metadata": {},
   "outputs": [],
   "source": []
  },
  {
   "cell_type": "code",
   "execution_count": null,
   "id": "6c8a76b2-0680-4aa1-977d-03df4fc59002",
   "metadata": {},
   "outputs": [],
   "source": []
  },
  {
   "cell_type": "code",
   "execution_count": null,
   "id": "0015a470-383d-4925-a9c8-f8d8b2a48d33",
   "metadata": {},
   "outputs": [],
   "source": []
  },
  {
   "cell_type": "code",
   "execution_count": null,
   "id": "7222ec76-ee74-4470-90c7-92c2f59c5180",
   "metadata": {},
   "outputs": [],
   "source": []
  },
  {
   "cell_type": "code",
   "execution_count": null,
   "id": "6a8ab55b-4e96-4d24-8cd3-22e9454e7645",
   "metadata": {},
   "outputs": [],
   "source": []
  },
  {
   "cell_type": "code",
   "execution_count": null,
   "id": "16e1eee3-f3e6-4659-a30a-dcb2afea304c",
   "metadata": {},
   "outputs": [],
   "source": []
  },
  {
   "cell_type": "code",
   "execution_count": null,
   "id": "efe2546b-8ae1-4b34-8a61-a306a2d24905",
   "metadata": {},
   "outputs": [],
   "source": []
  },
  {
   "cell_type": "code",
   "execution_count": null,
   "id": "c0e7d100-79f7-4cc1-8804-c9a10e7743dd",
   "metadata": {},
   "outputs": [],
   "source": []
  },
  {
   "cell_type": "code",
   "execution_count": null,
   "id": "9cbede9c-fa9f-461a-b531-8537656c9df9",
   "metadata": {},
   "outputs": [],
   "source": []
  }
 ],
 "metadata": {
  "kernelspec": {
   "display_name": "Python 3 (ipykernel)",
   "language": "python",
   "name": "python3"
  },
  "language_info": {
   "codemirror_mode": {
    "name": "ipython",
    "version": 3
   },
   "file_extension": ".py",
   "mimetype": "text/x-python",
   "name": "python",
   "nbconvert_exporter": "python",
   "pygments_lexer": "ipython3",
   "version": "3.9.12"
  }
 },
 "nbformat": 4,
 "nbformat_minor": 5
}
